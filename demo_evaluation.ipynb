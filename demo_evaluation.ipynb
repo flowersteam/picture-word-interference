{
 "cells": [
  {
   "cell_type": "code",
   "execution_count": 2,
   "outputs": [],
   "source": [
    "import torch\n",
    "from UTILS.utils import *\n",
    "from UTILS.display import *\n",
    "from DATASETS.load_dataset import get_images"
   ],
   "metadata": {
    "collapsed": false,
    "pycharm": {
     "name": "#%%\n"
    }
   }
  },
  {
   "cell_type": "code",
   "execution_count": 3,
   "outputs": [],
   "source": [
    "path = ''\n",
    "model_name = \"clip\"\n",
    "images = get_images()\n",
    "contexts   = [\"a photo of a \"]\n",
    "labels  = torch.load(path+\"DATASETS/LABELS/labels.pt\")\n",
    "super_labels, basic_labels, hierarchy = labels[\"SUPERORDINATES\"], labels[\"BASICS\"], labels[\"CLUSTERING\"]\n",
    "context = contexts[0]"
   ],
   "metadata": {
    "collapsed": false,
    "pycharm": {
     "name": "#%%\n"
    }
   }
  },
  {
   "cell_type": "code",
   "execution_count": 4,
   "outputs": [],
   "source": [
    "results = torch.load(path + \"DATA/\" + model_name + \"_benchmark_results.pt\")"
   ],
   "metadata": {
    "collapsed": false,
    "pycharm": {
     "name": "#%%\n"
    }
   }
  },
  {
   "cell_type": "code",
   "execution_count": 5,
   "outputs": [],
   "source": [
    "### **CONTEXT SELECTION**"
   ],
   "metadata": {
    "collapsed": false,
    "pycharm": {
     "name": "#%%\n"
    }
   }
  },
  {
   "cell_type": "code",
   "execution_count": 6,
   "outputs": [],
   "source": [
    "switching_rate, nonswitch_semantic, nonswitch_spelling, switch_semantic, switch_spelling,\\\n",
    "switch_proba,switch_new_proba_original,nonswitch_proba,switch_new_proba_new = results[context]"
   ],
   "metadata": {
    "collapsed": false,
    "pycharm": {
     "name": "#%%\n"
    }
   }
  },
  {
   "cell_type": "code",
   "execution_count": 7,
   "outputs": [],
   "source": [
    "### **MANUAL CHECK OF PREDICTIONS**"
   ],
   "metadata": {
    "collapsed": false,
    "pycharm": {
     "name": "#%%\n"
    }
   }
  },
  {
   "cell_type": "code",
   "execution_count": 8,
   "outputs": [],
   "source": [
    "original_predictions = torch.load(\n",
    "    path + \"DATA/\" + model_name + \"_\" + \"context\" + str(contexts.index(context)) + \"_original_preds.pt\")\n",
    "wordsAdd_predictions = torch.load(\n",
    "    path + \"DATA/\" + model_name + \"_\" + \"context\" + str(contexts.index(context)) + \"_wordsAdd_preds.pt\")"
   ],
   "metadata": {
    "collapsed": false,
    "pycharm": {
     "name": "#%%\n"
    }
   }
  },
  {
   "cell_type": "code",
   "execution_count": null,
   "outputs": [],
   "source": [
    "_ = get_original_preds(15, original_predictions, super_labels, basic_labels, display=True, images=images)\n",
    "_ = get_wordAdd_preds(173, \"electronic\", wordsAdd_predictions, super_labels, basic_labels, display=True, original_predictions=original_predictions, images=images)\n",
    "_ = get_wordAdd_preds(173, \"laptop\", wordsAdd_predictions, super_labels, basic_labels, display=True, original_predictions=original_predictions, images=images)"
   ],
   "metadata": {
    "collapsed": false,
    "pycharm": {
     "name": "#%%\n"
    }
   }
  },
  {
   "cell_type": "code",
   "execution_count": null,
   "outputs": [],
   "source": [
    "### **TASK SWITCHING RATE**"
   ],
   "metadata": {
    "collapsed": false,
    "pycharm": {
     "name": "#%%\n"
    }
   }
  },
  {
   "cell_type": "code",
   "execution_count": null,
   "outputs": [],
   "source": [
    "print(switching_rate)"
   ],
   "metadata": {
    "collapsed": false,
    "pycharm": {
     "name": "#%%\n"
    }
   }
  },
  {
   "cell_type": "code",
   "execution_count": null,
   "outputs": [],
   "source": [
    "### **SEMANTIC SIMILARITY**"
   ],
   "metadata": {
    "collapsed": false,
    "pycharm": {
     "name": "#%%\n"
    }
   }
  },
  {
   "cell_type": "code",
   "execution_count": null,
   "outputs": [],
   "source": [
    "testCategory = \"SEMANTIC SIMILARITY\"\n",
    "display_test_boxplots_twoconds(nonswitch_semantic, switch_semantic, testCategory, [\"Unswitched\", \"Label-switched\"])"
   ],
   "metadata": {
    "collapsed": false,
    "pycharm": {
     "name": "#%%\n"
    }
   }
  },
  {
   "cell_type": "code",
   "execution_count": null,
   "outputs": [],
   "source": [
    "### **SPELLING SIMILARITY **"
   ],
   "metadata": {
    "collapsed": false,
    "pycharm": {
     "name": "#%%\n"
    }
   }
  },
  {
   "cell_type": "code",
   "execution_count": null,
   "outputs": [],
   "source": [
    "testCategory = \"SPELLING SIMILARITY\"\n",
    "display_test_boxplots_twoconds(nonswitch_spelling, switch_spelling, testCategory, [\"Unswitched\", \"Label-switched\"])"
   ],
   "metadata": {
    "collapsed": false,
    "pycharm": {
     "name": "#%%\n"
    }
   }
  },
  {
   "cell_type": "code",
   "execution_count": null,
   "outputs": [],
   "source": [
    "### **Prediction probability**"
   ],
   "metadata": {
    "collapsed": false,
    "pycharm": {
     "name": "#%%\n"
    }
   }
  },
  {
   "cell_type": "code",
   "execution_count": null,
   "outputs": [],
   "source": [
    "testCategory = \"PROBABILITY\"\n",
    "display_test_boxplots_fourconds(nonswitch_proba,switch_proba,switch_new_proba_new, switch_new_proba_original,testCategory,[\"Unswitched\",\"Label-switched\",\"Original label\",\"New label\"])"
   ],
   "metadata": {
    "collapsed": false,
    "pycharm": {
     "name": "#%%\n"
    }
   }
  }
 ],
 "metadata": {
  "kernelspec": {
   "display_name": "Python 3",
   "language": "python",
   "name": "python3"
  },
  "language_info": {
   "codemirror_mode": {
    "name": "ipython",
    "version": 2
   },
   "file_extension": ".py",
   "mimetype": "text/x-python",
   "name": "python",
   "nbconvert_exporter": "python",
   "pygments_lexer": "ipython2",
   "version": "2.7.6"
  }
 },
 "nbformat": 4,
 "nbformat_minor": 0
}