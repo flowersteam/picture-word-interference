{
 "cells": [
  {
   "cell_type": "code",
   "execution_count": 31,
   "outputs": [],
   "source": [
    "import torch\n",
    "from UTILS.utils import *\n",
    "from DATASETS.load_dataset import get_images"
   ],
   "metadata": {
    "collapsed": false,
    "pycharm": {
     "name": "#%%\n"
    }
   }
  },
  {
   "cell_type": "code",
   "execution_count": 27,
   "outputs": [],
   "source": [
    "path = ''\n",
    "model_name = \"clip\"\n",
    "images = get_images()\n",
    "contexts   = [\"a photo of a \"]\n",
    "labels  = torch.load(path+\"DATASETS/LABELS/labels.pt\")\n",
    "super_labels, basic_labels, hierarchy = labels[\"SUPERORDINATES\"], labels[\"BASICS\"], labels[\"CLUSTERING\"]\n",
    "context = contexts[0]"
   ],
   "metadata": {
    "collapsed": false,
    "pycharm": {
     "name": "#%%\n"
    }
   }
  },
  {
   "cell_type": "code",
   "execution_count": 12,
   "outputs": [],
   "source": [
    "results = torch.load(path + \"DATA/\" + model_name + \"_benchmark_results.pt\")"
   ],
   "metadata": {
    "collapsed": false,
    "pycharm": {
     "name": "#%%\n"
    }
   }
  },
  {
   "cell_type": "code",
   "execution_count": 13,
   "outputs": [],
   "source": [
    "### **CONTEXT SELECTION**"
   ],
   "metadata": {
    "collapsed": false,
    "pycharm": {
     "name": "#%%\n"
    }
   }
  },
  {
   "cell_type": "code",
   "execution_count": 15,
   "outputs": [],
   "source": [
    "switching_rate, nonswitch_semantic, nonswitch_spelling, switch_semantic, switch_spelling,\\\n",
    "switch_proba,switch_new_proba_original,nonswitch_proba,switch_new_proba_new = results[context]"
   ],
   "metadata": {
    "collapsed": false,
    "pycharm": {
     "name": "#%%\n"
    }
   }
  },
  {
   "cell_type": "code",
   "execution_count": 16,
   "outputs": [],
   "source": [
    "### **MANUAL CHECK OF PREDICTIONS**"
   ],
   "metadata": {
    "collapsed": false,
    "pycharm": {
     "name": "#%%\n"
    }
   }
  },
  {
   "cell_type": "code",
   "execution_count": 21,
   "outputs": [],
   "source": [
    "original_predictions = torch.load(\n",
    "    path + \"DATA/\" + model_name + \"_\" + \"context\" + str(contexts.index(context)) + \"_original_preds.pt\")\n",
    "wordsAdd_predictions = torch.load(\n",
    "    path + \"DATA/\" + model_name + \"_\" + \"context\" + str(contexts.index(context)) + \"_wordsAdd_preds.pt\")"
   ],
   "metadata": {
    "collapsed": false,
    "pycharm": {
     "name": "#%%\n"
    }
   }
  },
  {
   "cell_type": "code",
   "execution_count": 33,
   "outputs": [
    {
     "ename": "TypeError",
     "evalue": "get_original_preds() got an unexpected keyword argument 'images'",
     "output_type": "error",
     "traceback": [
      "\u001B[0;31m---------------------------------------------------------------------------\u001B[0m",
      "\u001B[0;31mTypeError\u001B[0m                                 Traceback (most recent call last)",
      "Input \u001B[0;32mIn [33]\u001B[0m, in \u001B[0;36m<cell line: 1>\u001B[0;34m()\u001B[0m\n\u001B[0;32m----> 1\u001B[0m _ \u001B[38;5;241m=\u001B[39m \u001B[43mget_original_preds\u001B[49m\u001B[43m(\u001B[49m\u001B[38;5;241;43m15\u001B[39;49m\u001B[43m,\u001B[49m\u001B[43m \u001B[49m\u001B[43moriginal_predictions\u001B[49m\u001B[43m,\u001B[49m\u001B[43m \u001B[49m\u001B[43msuper_labels\u001B[49m\u001B[43m,\u001B[49m\u001B[43m \u001B[49m\u001B[43mbasic_labels\u001B[49m\u001B[43m,\u001B[49m\u001B[43m \u001B[49m\u001B[43mdisplay\u001B[49m\u001B[38;5;241;43m=\u001B[39;49m\u001B[38;5;28;43;01mTrue\u001B[39;49;00m\u001B[43m,\u001B[49m\u001B[43m \u001B[49m\u001B[43mimages\u001B[49m\u001B[38;5;241;43m=\u001B[39;49m\u001B[43mimages\u001B[49m\u001B[43m)\u001B[49m\n\u001B[1;32m      2\u001B[0m _ \u001B[38;5;241m=\u001B[39m get_wordAdd_preds(\u001B[38;5;241m173\u001B[39m, \u001B[38;5;124m\"\u001B[39m\u001B[38;5;124melectronic\u001B[39m\u001B[38;5;124m\"\u001B[39m, original_predictions, super_labels, basic_labels, display\u001B[38;5;241m=\u001B[39m\u001B[38;5;28;01mTrue\u001B[39;00m, original_predictions\u001B[38;5;241m=\u001B[39moriginal_predictions, images\u001B[38;5;241m=\u001B[39mimages)\n\u001B[1;32m      3\u001B[0m _ \u001B[38;5;241m=\u001B[39m get_wordAdd_preds(\u001B[38;5;241m173\u001B[39m, \u001B[38;5;124m\"\u001B[39m\u001B[38;5;124mlaptop\u001B[39m\u001B[38;5;124m\"\u001B[39m, original_predictions, super_labels, basic_labels, display\u001B[38;5;241m=\u001B[39m\u001B[38;5;28;01mTrue\u001B[39;00m, original_predictions\u001B[38;5;241m=\u001B[39moriginal_predictions, images\u001B[38;5;241m=\u001B[39mimages)\n",
      "\u001B[0;31mTypeError\u001B[0m: get_original_preds() got an unexpected keyword argument 'images'"
     ]
    }
   ],
   "source": [
    "_ = get_original_preds(15, original_predictions, super_labels, basic_labels, display=True, images=images)\n",
    "_ = get_wordAdd_preds(173, \"electronic\", original_predictions, super_labels, basic_labels, display=True, original_predictions=original_predictions, images=images)\n",
    "_ = get_wordAdd_preds(173, \"laptop\", original_predictions, super_labels, basic_labels, display=True, original_predictions=original_predictions, images=images)"
   ],
   "metadata": {
    "collapsed": false,
    "pycharm": {
     "name": "#%%\n"
    }
   }
  },
  {
   "cell_type": "code",
   "execution_count": null,
   "outputs": [],
   "source": [
    "### **TASK SWITCHING RATE**"
   ],
   "metadata": {
    "collapsed": false,
    "pycharm": {
     "name": "#%%\n"
    }
   }
  },
  {
   "cell_type": "code",
   "execution_count": null,
   "outputs": [],
   "source": [
    "print(switching_rate)"
   ],
   "metadata": {
    "collapsed": false,
    "pycharm": {
     "name": "#%%\n"
    }
   }
  },
  {
   "cell_type": "code",
   "execution_count": null,
   "outputs": [],
   "source": [
    "### **SEMANTIC SIMILARITY**"
   ],
   "metadata": {
    "collapsed": false,
    "pycharm": {
     "name": "#%%\n"
    }
   }
  },
  {
   "cell_type": "code",
   "execution_count": null,
   "outputs": [],
   "source": [
    "testCategory = \"SEMANTIC SIMILARITY\"\n",
    "display_test_boxplots_twoconds(nonswitch_semantic, switch_semantic, testCategory, [\"Unswitched\", \"Label-switched\"])"
   ],
   "metadata": {
    "collapsed": false,
    "pycharm": {
     "name": "#%%\n"
    }
   }
  },
  {
   "cell_type": "code",
   "execution_count": null,
   "outputs": [],
   "source": [
    "### **SPELLING SIMILARITY **"
   ],
   "metadata": {
    "collapsed": false,
    "pycharm": {
     "name": "#%%\n"
    }
   }
  },
  {
   "cell_type": "code",
   "execution_count": null,
   "outputs": [],
   "source": [
    "testCategory = \"SPELLING SIMILARITY\"\n",
    "display_test_boxplots_twoconds(nonswitch_spelling, switch_spelling, testCategory, [\"Unswitched\", \"Label-switched\"])"
   ],
   "metadata": {
    "collapsed": false,
    "pycharm": {
     "name": "#%%\n"
    }
   }
  },
  {
   "cell_type": "code",
   "execution_count": null,
   "outputs": [],
   "source": [
    "### **Prediction probability**"
   ],
   "metadata": {
    "collapsed": false,
    "pycharm": {
     "name": "#%%\n"
    }
   }
  },
  {
   "cell_type": "code",
   "execution_count": null,
   "outputs": [],
   "source": [
    "testCategory = \"PROBABILITY\"\n",
    "display_test_boxplots_fourconds(nonswitch_proba,switch_proba,switch_new_proba_original,switch_new_proba_new,testCategory,[\"Unswitched\",\"Label-switched\",\"Original label\",\"New label\"])"
   ],
   "metadata": {
    "collapsed": false,
    "pycharm": {
     "name": "#%%\n"
    }
   }
  }
 ],
 "metadata": {
  "kernelspec": {
   "display_name": "Python 3",
   "language": "python",
   "name": "python3"
  },
  "language_info": {
   "codemirror_mode": {
    "name": "ipython",
    "version": 2
   },
   "file_extension": ".py",
   "mimetype": "text/x-python",
   "name": "python",
   "nbconvert_exporter": "python",
   "pygments_lexer": "ipython2",
   "version": "2.7.6"
  }
 },
 "nbformat": 4,
 "nbformat_minor": 0
}